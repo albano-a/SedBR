{
 "cells": [
  {
   "cell_type": "code",
   "execution_count": 4,
   "metadata": {},
   "outputs": [],
   "source": [
    "# import pdfminer.six\n",
    "# Importando a biblioteca Tabula\n",
    "# import pytesseract\n",
    "from pdf2image import convert_from_path\n",
    "\n",
    "pages = convert_from_path(\"1-OGX-101-MA_PC.pdf\", 150)\n",
    "\n",
    "for i, page in enumerate(pages):\n",
    "    page.save(f'page_{i + 1}.png', 'PNG')"
   ]
  },
  {
   "cell_type": "code",
   "execution_count": 5,
   "metadata": {},
   "outputs": [
    {
     "name": "stdout",
     "output_type": "stream",
     "text": [
      " Formação a Cabo\n",
      "Pressão Pressão de\n",
      "Corrida Tipo No. Prof./Intv.(m) Cota (m) Hidrostatica | Formação Amostra? Resultados\n",
      "(Kgflcm2) (Kgflem2)\n",
      "2 Pressão 1 663.8 -542.8 65.18 Não Efetivo alta mobilidade\n",
      "2 Pressão 2 642.2 -521.2 62.76 Não Efetivo alta mobilidade\n",
      "2 Pressão 3 748.0 -627.0 73.25 Não Efetivo altíssima mobilidade\n",
      "2 Pressão 4 767.8 -646.8 75.23 Não Efetivo altíssima mobilidade\n",
      "2 Pressão 5 857.6 -736.6 85.90 Não Efetivo alta mobilidade\n",
      "2 Pressão 6 891.2 -770.2 88.83 Não Efetivo alta mobilidade\n",
      "2 Pressão 7 1030.0 -909.0 104.60 Não Efetivo alta mobilidade\n",
      "2 Pressão 8 1097.4 -976.4 112.06 Não Efetivo alta mobilidade\n",
      "2 Pressão 9 1116.5 -995.5 Não Abortado, fechado.\n",
      "2 Pressão 10 1116.3 -995.3 114.24 Não Efetivo com baixa mobilidade\n",
      "2 Pressão 1 1249.0 -1128.0 128.79 Não Efetivo alta mobilidade\n",
      "2 Pressão 12 1329.0 -1208.0 137.83 Não Efetivo baixa mobilidade\n",
      "2 Pressão 13 1328.9 -1207.9 Não Abortado baixissima mobilidade\n",
      "2 Pressão 14 1328.8 -1207.8 137.77 Não Efetivo com regular mobilidade\n",
      "2 Pressão 15 1403.3 -1282.3 Não Abortado baixissima mobilidade\n",
      "2 Pressão 16 1403.4 -1282.4 Não Abortado baixissima mobilidade\n",
      "2 Pressão 17 1403.2 -1282.2 Não Abortado baixissima mobilidade\n",
      "2 Pressão 18 1672.5 -1551.5 Não Abortado baixissima mobilidade\n",
      "2 Pressão 19 1671.5 -1550.5 Não Abortado baixissima mobilidade\n",
      "2 Pressão 20 1672.4 -1551.4 Não Abortado baixissima mobilidade\n",
      "2 Pressão 21 1689.0 -1568.0 178.96 Não Efetivo baixa mobilidade\n",
      "2 Pressão 22 1732.5 -1611.5 183.89 Não Efetivo baixa mobilidade\n",
      "2 Pressão 23 1747.2 -1626.2 185.49 Não Efetivo baixa mobilidade\n",
      "2 Pressão 24 1760.0 -1639.0 Não Abortado baixissima mobilidade.\n",
      "2 Pressão 25 1759.2 -1638.2 187.05 Não Efetivo baixa mobilidade\n",
      "2 Pressão 26 1774.2 -1653.2 Não Abortado, seco\n",
      "2 Pressão 27 17734 -1652.4 188.41 Não Efetivo baixa mobilidade\n",
      "2 Pressão 28 1917.2 -1796.2 Não Abortado, seco\n",
      "2 Pressão 29 1917.5 -1796.5 Não Abortado, seco\n",
      "2 Pressão 30 1918.2 -1797.2 Não Abortado, seco\n",
      "\n",
      "\n"
     ]
    }
   ],
   "source": [
    "from PIL import Image\n",
    "import pytesseract\n",
    "\n",
    "def extract_text_from_image(image_path, start_word):\n",
    "    img = Image.open(image_path)\n",
    "    text = pytesseract.image_to_string(img, lang=\"por\")\n",
    "\n",
    "    # Split the text on the start word and get the second part\n",
    "    parts = text.split(start_word, 1)\n",
    "    if len(parts) > 1:\n",
    "        return parts[1]\n",
    "    else:\n",
    "        return ''\n",
    "\n",
    "# Example usage\n",
    "extracted_text = extract_text_from_image('page_1.png', 'Teste de')\n",
    "print(extracted_text)"
   ]
  }
 ],
 "metadata": {
  "kernelspec": {
   "display_name": ".venv",
   "language": "python",
   "name": "python3"
  },
  "language_info": {
   "codemirror_mode": {
    "name": "ipython",
    "version": 3
   },
   "file_extension": ".py",
   "mimetype": "text/x-python",
   "name": "python",
   "nbconvert_exporter": "python",
   "pygments_lexer": "ipython3",
   "version": "3.12.0"
  }
 },
 "nbformat": 4,
 "nbformat_minor": 2
}
